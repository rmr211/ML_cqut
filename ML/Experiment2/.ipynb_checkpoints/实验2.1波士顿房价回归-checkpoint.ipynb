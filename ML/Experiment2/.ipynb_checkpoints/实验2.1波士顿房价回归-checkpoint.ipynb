{
 "cells": [
  {
   "cell_type": "code",
   "execution_count": 1,
   "metadata": {},
   "outputs": [],
   "source": [
    "#表示matplotlib的pyplot子库，它提供了和matlab类似的绘图API\n",
    "import  matplotlib.pyplot as plt\n",
    "#表示可以调用sklearn中的 linear_model模块进行线性回归。\n",
    "from sklearn import  linear_model\n",
    "from sklearn import preprocessing\n",
    "import numpy as np\n",
    "#建立datasets_X和datasets_Y用来存储数据中的房屋尺寸和房屋成交价格。\n",
    "%matplotlib inline"
   ]
  },
  {
   "cell_type": "code",
   "execution_count": 2,
   "metadata": {},
   "outputs": [],
   "source": [
    "datasets_X =[]\n",
    "datasets_Y =[]"
   ]
  },
  {
   "cell_type": "code",
   "execution_count": 3,
   "metadata": {},
   "outputs": [],
   "source": [
    "import matplotlib\n",
    "matplotlib.rcParams['font.sans-serif'] = ['SimHei'] # 指定默认字体（解决中文无法显示的问题）\n",
    "matplotlib.rcParams['axes.unicode_minus'] = False # 解决保存图像时负号“-”显示方块的问题"
   ]
  },
  {
   "cell_type": "code",
   "execution_count": 4,
   "metadata": {},
   "outputs": [],
   "source": [
    "from IPython.core.interactiveshell import InteractiveShell\n",
    "InteractiveShell.ast_node_interactivity = \"all\" "
   ]
  },
  {
   "cell_type": "code",
   "execution_count": 5,
   "metadata": {},
   "outputs": [],
   "source": [
    "fr =open('prices.txt','r')\n",
    "#一次读取整个文件。\n",
    "lines =fr.readlines()\n",
    "#逐行进行操作，循环遍历所有数据\n",
    "for line in lines:\n",
    "    #去除数据文件中的逗号\n",
    "    items =line.strip().split(',')\n",
    "    #将读取的数据转换为int型，并分别写入datasets_X和datasets_Y。\n",
    "    datasets_X.append(int(items[0]))\n",
    "    datasets_Y.append(int(items[1]))\n",
    "#求得datasets_X的长度，即为数据的总数。\n",
    "length =len(datasets_X)\n",
    "#将datasets_X转化为数组， 并变为二维，以符合线性回归拟合函数输入参数要求\n",
    "datasets_X= np.array(datasets_X).reshape([length,1])\n",
    "#将datasets_Y转化为数组\n",
    "datasets_Y=np.array(datasets_Y)\n",
    "\n",
    "minX =min(datasets_X)\n",
    "maxX =max(datasets_X)\n",
    "#以数据datasets_X的最大值和最小值为范围，建立等差数列，方便后续画图。\n",
    "X=np.arange(minX,maxX).reshape([-1,1])"
   ]
  },
  {
   "cell_type": "code",
   "execution_count": 6,
   "metadata": {},
   "outputs": [
    {
     "data": {
      "text/plain": [
       "array([[1000],\n",
       "       [ 792],\n",
       "       [1260],\n",
       "       [1262],\n",
       "       [1240],\n",
       "       [1170],\n",
       "       [1230],\n",
       "       [1255],\n",
       "       [1194],\n",
       "       [1450],\n",
       "       [1481],\n",
       "       [1475],\n",
       "       [1482],\n",
       "       [1484],\n",
       "       [1512],\n",
       "       [1680],\n",
       "       [1620],\n",
       "       [1720],\n",
       "       [1800],\n",
       "       [4400],\n",
       "       [4212],\n",
       "       [3920],\n",
       "       [3212],\n",
       "       [3151],\n",
       "       [3100],\n",
       "       [2700],\n",
       "       [2612],\n",
       "       [2705],\n",
       "       [2570],\n",
       "       [2442],\n",
       "       [2387],\n",
       "       [2292],\n",
       "       [2308],\n",
       "       [2252],\n",
       "       [2202],\n",
       "       [2157],\n",
       "       [2140],\n",
       "       [4000],\n",
       "       [4200],\n",
       "       [3900],\n",
       "       [3544],\n",
       "       [2980],\n",
       "       [4355],\n",
       "       [3150]])"
      ]
     },
     "execution_count": 6,
     "metadata": {},
     "output_type": "execute_result"
    },
    {
     "data": {
      "text/plain": [
       "array([168, 184, 197, 220, 228, 248, 305, 256, 240, 230, 202, 220, 232,\n",
       "       460, 320, 340, 240, 368, 280, 710, 552, 580, 585, 590, 560, 285,\n",
       "       292, 482, 462, 352, 440, 462, 325, 298, 352, 403, 308, 795, 765,\n",
       "       705, 420, 402, 762, 392])"
      ]
     },
     "execution_count": 6,
     "metadata": {},
     "output_type": "execute_result"
    },
    {
     "data": {
      "text/plain": [
       "array([[ 792],\n",
       "       [ 793],\n",
       "       [ 794],\n",
       "       ...,\n",
       "       [4397],\n",
       "       [4398],\n",
       "       [4399]])"
      ]
     },
     "execution_count": 6,
     "metadata": {},
     "output_type": "execute_result"
    }
   ],
   "source": [
    "datasets_X\n",
    "datasets_Y\n",
    "X"
   ]
  },
  {
   "cell_type": "markdown",
   "metadata": {},
   "source": [
    "问题 1 采用线性回归拟合数据并画出对训练数据的拟合图，建议使用linear_model.LinearRegression()"
   ]
  },
  {
   "cell_type": "markdown",
   "metadata": {},
   "source": [
    "### 训练模型"
   ]
  },
  {
   "cell_type": "code",
   "execution_count": 7,
   "metadata": {},
   "outputs": [
    {
     "data": {
      "text/plain": [
       "LinearRegression()"
      ]
     },
     "execution_count": 7,
     "metadata": {},
     "output_type": "execute_result"
    }
   ],
   "source": [
    "lm =linear_model.LinearRegression()\n",
    "lm.fit(datasets_X,datasets_Y)"
   ]
  },
  {
   "cell_type": "markdown",
   "metadata": {},
   "source": [
    "### 可视化"
   ]
  },
  {
   "cell_type": "code",
   "execution_count": 8,
   "metadata": {},
   "outputs": [
    {
     "data": {
      "text/plain": [
       "<matplotlib.collections.PathCollection at 0x2a8ce30c430>"
      ]
     },
     "execution_count": 8,
     "metadata": {},
     "output_type": "execute_result"
    },
    {
     "data": {
      "text/plain": [
       "Text(0.5, 0, '房屋尺寸')"
      ]
     },
     "execution_count": 8,
     "metadata": {},
     "output_type": "execute_result"
    },
    {
     "data": {
      "text/plain": [
       "Text(0, 0.5, '房屋成交价格')"
      ]
     },
     "execution_count": 8,
     "metadata": {},
     "output_type": "execute_result"
    },
    {
     "data": {
      "text/plain": [
       "[<matplotlib.lines.Line2D at 0x2a8ce30ca00>]"
      ]
     },
     "execution_count": 8,
     "metadata": {},
     "output_type": "execute_result"
    },
    {
     "data": {
      "image/png": "[encoded data removed]",
      "text/plain": [
       "<Figure size 432x288 with 1 Axes>"
      ]
     },
     "metadata": {
      "needs_background": "light"
     },
     "output_type": "display_data"
    }
   ],
   "source": [
    "plt.scatter(datasets_X, datasets_Y)\n",
    "plt.xlabel('房屋尺寸')\n",
    "plt.ylabel('房屋成交价格')\n",
    "plt.plot(X,lm.predict(X),color='blue')"
   ]
  },
  {
   "cell_type": "markdown",
   "metadata": {},
   "source": [
    "问题 2 采用多项式回归拟合数据并画出对测试数据的拟合图，建议使用=PolynomialFeatures(degree=2)"
   ]
  },
  {
   "cell_type": "code",
   "execution_count": 9,
   "metadata": {},
   "outputs": [],
   "source": [
    "poly = preprocessing.PolynomialFeatures(degree=2)\n",
    "x_poly=poly.fit_transform(datasets_X)"
   ]
  },
  {
   "cell_type": "code",
   "execution_count": 10,
   "metadata": {},
   "outputs": [
    {
     "data": {
      "text/plain": [
       "LinearRegression()"
      ]
     },
     "execution_count": 10,
     "metadata": {},
     "output_type": "execute_result"
    }
   ],
   "source": [
    "lm_poly = linear_model.LinearRegression()\n",
    "lm_poly.fit(x_poly,datasets_Y)"
   ]
  },
  {
   "cell_type": "code",
   "execution_count": 11,
   "metadata": {},
   "outputs": [
    {
     "data": {
      "text/plain": [
       "<matplotlib.collections.PathCollection at 0x2a8ce40f1f0>"
      ]
     },
     "execution_count": 11,
     "metadata": {},
     "output_type": "execute_result"
    },
    {
     "data": {
      "text/plain": [
       "Text(0.5, 0, '房屋尺寸')"
      ]
     },
     "execution_count": 11,
     "metadata": {},
     "output_type": "execute_result"
    },
    {
     "data": {
      "text/plain": [
       "Text(0, 0.5, '房屋成交价格')"
      ]
     },
     "execution_count": 11,
     "metadata": {},
     "output_type": "execute_result"
    },
    {
     "data": {
      "text/plain": [
       "[<matplotlib.lines.Line2D at 0x2a8ce40f7c0>]"
      ]
     },
     "execution_count": 11,
     "metadata": {},
     "output_type": "execute_result"
    },
    {
     "data": {
      "image/png": "[encoded data removed]",
      "text/plain": [
       "<Figure size 432x288 with 1 Axes>"
      ]
     },
     "metadata": {
      "needs_background": "light"
     },
     "output_type": "display_data"
    }
   ],
   "source": [
    "plt.scatter(datasets_X, datasets_Y)\n",
    "plt.xlabel('房屋尺寸')\n",
    "plt.ylabel('房屋成交价格')\n",
    "plt.plot(X,lm_poly.predict(poly.fit_transform(X)),color='blue')"
   ]
  },
  {
   "cell_type": "markdown",
   "metadata": {},
   "source": [
    "问题 3 采用岭回归拟合数据并画出对测试数据的拟合图"
   ]
  },
  {
   "cell_type": "code",
   "execution_count": 12,
   "metadata": {},
   "outputs": [],
   "source": [
    "import numpy as np\n",
    "import pandas as pd\n",
    "from sklearn.linear_model import Ridge #岭加归方法\n",
    "#from sklearn import cross_decomposition\n",
    "from sklearn.model_selection import train_test_split\n",
    "import matplotlib.pyplot as plt\n",
    "from sklearn.preprocessing import PolynomialFeatures #用于创建多项式"
   ]
  },
  {
   "cell_type": "code",
   "execution_count": 13,
   "metadata": {},
   "outputs": [
    {
     "data": {
      "text/plain": [
       "array([[1.0000000e+00, 1.0000000e+03, 1.0000000e+06],\n",
       "       [1.0000000e+00, 7.9200000e+02, 6.2726400e+05],\n",
       "       [1.0000000e+00, 1.2600000e+03, 1.5876000e+06],\n",
       "       [1.0000000e+00, 1.2620000e+03, 1.5926440e+06],\n",
       "       [1.0000000e+00, 1.2400000e+03, 1.5376000e+06],\n",
       "       [1.0000000e+00, 1.1700000e+03, 1.3689000e+06],\n",
       "       [1.0000000e+00, 1.2300000e+03, 1.5129000e+06],\n",
       "       [1.0000000e+00, 1.2550000e+03, 1.5750250e+06],\n",
       "       [1.0000000e+00, 1.1940000e+03, 1.4256360e+06],\n",
       "       [1.0000000e+00, 1.4500000e+03, 2.1025000e+06],\n",
       "       [1.0000000e+00, 1.4810000e+03, 2.1933610e+06],\n",
       "       [1.0000000e+00, 1.4750000e+03, 2.1756250e+06],\n",
       "       [1.0000000e+00, 1.4820000e+03, 2.1963240e+06],\n",
       "       [1.0000000e+00, 1.4840000e+03, 2.2022560e+06],\n",
       "       [1.0000000e+00, 1.5120000e+03, 2.2861440e+06],\n",
       "       [1.0000000e+00, 1.6800000e+03, 2.8224000e+06],\n",
       "       [1.0000000e+00, 1.6200000e+03, 2.6244000e+06],\n",
       "       [1.0000000e+00, 1.7200000e+03, 2.9584000e+06],\n",
       "       [1.0000000e+00, 1.8000000e+03, 3.2400000e+06],\n",
       "       [1.0000000e+00, 4.4000000e+03, 1.9360000e+07],\n",
       "       [1.0000000e+00, 4.2120000e+03, 1.7740944e+07],\n",
       "       [1.0000000e+00, 3.9200000e+03, 1.5366400e+07],\n",
       "       [1.0000000e+00, 3.2120000e+03, 1.0316944e+07],\n",
       "       [1.0000000e+00, 3.1510000e+03, 9.9288010e+06],\n",
       "       [1.0000000e+00, 3.1000000e+03, 9.6100000e+06],\n",
       "       [1.0000000e+00, 2.7000000e+03, 7.2900000e+06],\n",
       "       [1.0000000e+00, 2.6120000e+03, 6.8225440e+06],\n",
       "       [1.0000000e+00, 2.7050000e+03, 7.3170250e+06],\n",
       "       [1.0000000e+00, 2.5700000e+03, 6.6049000e+06],\n",
       "       [1.0000000e+00, 2.4420000e+03, 5.9633640e+06],\n",
       "       [1.0000000e+00, 2.3870000e+03, 5.6977690e+06],\n",
       "       [1.0000000e+00, 2.2920000e+03, 5.2532640e+06],\n",
       "       [1.0000000e+00, 2.3080000e+03, 5.3268640e+06],\n",
       "       [1.0000000e+00, 2.2520000e+03, 5.0715040e+06],\n",
       "       [1.0000000e+00, 2.2020000e+03, 4.8488040e+06],\n",
       "       [1.0000000e+00, 2.1570000e+03, 4.6526490e+06],\n",
       "       [1.0000000e+00, 2.1400000e+03, 4.5796000e+06],\n",
       "       [1.0000000e+00, 4.0000000e+03, 1.6000000e+07],\n",
       "       [1.0000000e+00, 4.2000000e+03, 1.7640000e+07],\n",
       "       [1.0000000e+00, 3.9000000e+03, 1.5210000e+07],\n",
       "       [1.0000000e+00, 3.5440000e+03, 1.2559936e+07],\n",
       "       [1.0000000e+00, 2.9800000e+03, 8.8804000e+06],\n",
       "       [1.0000000e+00, 4.3550000e+03, 1.8966025e+07],\n",
       "       [1.0000000e+00, 3.1500000e+03, 9.9225000e+06]])"
      ]
     },
     "execution_count": 13,
     "metadata": {},
     "output_type": "execute_result"
    }
   ],
   "source": [
    "poly_ridge = PolynomialFeatures(degree=2)\n",
    "x_poly_ridge = poly_ridge.fit_transform(datasets_X)\n",
    "x_poly_ridge"
   ]
  },
  {
   "cell_type": "code",
   "execution_count": 14,
   "metadata": {},
   "outputs": [],
   "source": [
    "train_x,test_x,train_y,test_y = train_test_split(x_poly_ridge,datasets_Y,random_state = 2022)"
   ]
  },
  {
   "cell_type": "code",
   "execution_count": 15,
   "metadata": {},
   "outputs": [
    {
     "data": {
      "text/plain": [
       "array([[1.0000000e+00, 1.0000000e+03, 1.0000000e+06],\n",
       "       [1.0000000e+00, 3.2120000e+03, 1.0316944e+07],\n",
       "       [1.0000000e+00, 1.4810000e+03, 2.1933610e+06],\n",
       "       [1.0000000e+00, 3.5440000e+03, 1.2559936e+07],\n",
       "       [1.0000000e+00, 1.4840000e+03, 2.2022560e+06],\n",
       "       [1.0000000e+00, 1.4820000e+03, 2.1963240e+06],\n",
       "       [1.0000000e+00, 2.3080000e+03, 5.3268640e+06],\n",
       "       [1.0000000e+00, 1.7200000e+03, 2.9584000e+06],\n",
       "       [1.0000000e+00, 1.1700000e+03, 1.3689000e+06],\n",
       "       [1.0000000e+00, 1.6800000e+03, 2.8224000e+06],\n",
       "       [1.0000000e+00, 3.9200000e+03, 1.5366400e+07],\n",
       "       [1.0000000e+00, 3.1500000e+03, 9.9225000e+06],\n",
       "       [1.0000000e+00, 1.2600000e+03, 1.5876000e+06],\n",
       "       [1.0000000e+00, 7.9200000e+02, 6.2726400e+05],\n",
       "       [1.0000000e+00, 4.2000000e+03, 1.7640000e+07],\n",
       "       [1.0000000e+00, 4.0000000e+03, 1.6000000e+07],\n",
       "       [1.0000000e+00, 2.6120000e+03, 6.8225440e+06],\n",
       "       [1.0000000e+00, 3.9000000e+03, 1.5210000e+07],\n",
       "       [1.0000000e+00, 1.5120000e+03, 2.2861440e+06],\n",
       "       [1.0000000e+00, 1.1940000e+03, 1.4256360e+06],\n",
       "       [1.0000000e+00, 1.2300000e+03, 1.5129000e+06],\n",
       "       [1.0000000e+00, 2.1570000e+03, 4.6526490e+06],\n",
       "       [1.0000000e+00, 2.1400000e+03, 4.5796000e+06],\n",
       "       [1.0000000e+00, 2.3870000e+03, 5.6977690e+06],\n",
       "       [1.0000000e+00, 4.4000000e+03, 1.9360000e+07],\n",
       "       [1.0000000e+00, 1.4750000e+03, 2.1756250e+06],\n",
       "       [1.0000000e+00, 2.7050000e+03, 7.3170250e+06],\n",
       "       [1.0000000e+00, 2.2520000e+03, 5.0715040e+06],\n",
       "       [1.0000000e+00, 1.6200000e+03, 2.6244000e+06],\n",
       "       [1.0000000e+00, 4.3550000e+03, 1.8966025e+07],\n",
       "       [1.0000000e+00, 1.8000000e+03, 3.2400000e+06],\n",
       "       [1.0000000e+00, 3.1000000e+03, 9.6100000e+06],\n",
       "       [1.0000000e+00, 2.5700000e+03, 6.6049000e+06]])"
      ]
     },
     "execution_count": 15,
     "metadata": {},
     "output_type": "execute_result"
    },
    {
     "data": {
      "text/plain": [
       "array([168, 585, 202, 420, 460, 232, 325, 368, 248, 340, 580, 392, 197,\n",
       "       184, 765, 795, 292, 705, 320, 240, 305, 403, 308, 440, 710, 220,\n",
       "       482, 298, 240, 762, 280, 560, 462])"
      ]
     },
     "execution_count": 15,
     "metadata": {},
     "output_type": "execute_result"
    },
    {
     "data": {
      "text/plain": [
       "array([[1.0000000e+00, 2.4420000e+03, 5.9633640e+06],\n",
       "       [1.0000000e+00, 4.2120000e+03, 1.7740944e+07],\n",
       "       [1.0000000e+00, 3.1510000e+03, 9.9288010e+06],\n",
       "       [1.0000000e+00, 1.2620000e+03, 1.5926440e+06],\n",
       "       [1.0000000e+00, 2.2020000e+03, 4.8488040e+06],\n",
       "       [1.0000000e+00, 2.2920000e+03, 5.2532640e+06],\n",
       "       [1.0000000e+00, 1.2550000e+03, 1.5750250e+06],\n",
       "       [1.0000000e+00, 1.4500000e+03, 2.1025000e+06],\n",
       "       [1.0000000e+00, 2.7000000e+03, 7.2900000e+06],\n",
       "       [1.0000000e+00, 2.9800000e+03, 8.8804000e+06],\n",
       "       [1.0000000e+00, 1.2400000e+03, 1.5376000e+06]])"
      ]
     },
     "execution_count": 15,
     "metadata": {},
     "output_type": "execute_result"
    },
    {
     "data": {
      "text/plain": [
       "array([352, 552, 590, 220, 352, 462, 256, 230, 285, 402, 228])"
      ]
     },
     "execution_count": 15,
     "metadata": {},
     "output_type": "execute_result"
    }
   ],
   "source": [
    "train_x\n",
    "train_y\n",
    "test_x\n",
    "test_y"
   ]
  },
  {
   "cell_type": "code",
   "execution_count": 16,
   "metadata": {},
   "outputs": [
    {
     "name": "stderr",
     "output_type": "stream",
     "text": [
      "D:\\Anaconda\\lib\\site-packages\\sklearn\\linear_model\\_ridge.py:147: LinAlgWarning: Ill-conditioned matrix (rcond=9.23719e-17): result may not be accurate.\n",
      "  return linalg.solve(A, Xy, sym_pos=True,\n"
     ]
    },
    {
     "data": {
      "text/plain": [
       "Ridge(alpha=0.1)"
      ]
     },
     "execution_count": 16,
     "metadata": {},
     "output_type": "execute_result"
    }
   ],
   "source": [
    "ridge = Ridge(alpha=0.1,fit_intercept=True)\n",
    "ridge.fit(train_x,train_y)"
   ]
  },
  {
   "cell_type": "code",
   "execution_count": 17,
   "metadata": {},
   "outputs": [
    {
     "data": {
      "text/plain": [
       "0.5719199349305177"
      ]
     },
     "execution_count": 17,
     "metadata": {},
     "output_type": "execute_result"
    }
   ],
   "source": [
    "ridge.score(test_x,test_y)"
   ]
  },
  {
   "cell_type": "code",
   "execution_count": 18,
   "metadata": {},
   "outputs": [
    {
     "data": {
      "text/plain": [
       "<matplotlib.collections.PathCollection at 0x2a8cf4cf190>"
      ]
     },
     "execution_count": 18,
     "metadata": {},
     "output_type": "execute_result"
    },
    {
     "data": {
      "text/plain": [
       "Text(0.5, 0, '房屋尺寸')"
      ]
     },
     "execution_count": 18,
     "metadata": {},
     "output_type": "execute_result"
    },
    {
     "data": {
      "text/plain": [
       "Text(0, 0.5, '房屋成交价格')"
      ]
     },
     "execution_count": 18,
     "metadata": {},
     "output_type": "execute_result"
    },
    {
     "data": {
      "text/plain": [
       "[<matplotlib.lines.Line2D at 0x2a8cf4cf580>]"
      ]
     },
     "execution_count": 18,
     "metadata": {},
     "output_type": "execute_result"
    },
    {
     "data": {
      "image/png": "[encoded data removed]",
      "text/plain": [
       "<Figure size 432x288 with 1 Axes>"
      ]
     },
     "metadata": {
      "needs_background": "light"
     },
     "output_type": "display_data"
    }
   ],
   "source": [
    "plt.scatter(datasets_X, datasets_Y)\n",
    "plt.xlabel('房屋尺寸')\n",
    "plt.ylabel('房屋成交价格')\n",
    "plt.plot(X,ridge.predict(poly_ridge.fit_transform(X)),color='blue')"
   ]
  }
 ],
 "metadata": {
  "kernelspec": {
   "display_name": "Python 3",
   "language": "python",
   "name": "python3"
  },
  "language_info": {
   "codemirror_mode": {
    "name": "ipython",
    "version": 3
   },
   "file_extension": ".py",
   "mimetype": "text/x-python",
   "name": "python",
   "nbconvert_exporter": "python",
   "pygments_lexer": "ipython3",
   "version": "3.8.5"
  },
  "varInspector": {
   "cols": {
    "lenName": 16,
    "lenType": 16,
    "lenVar": 40
   },
   "kernels_config": {
    "python": {
     "delete_cmd_postfix": "",
     "delete_cmd_prefix": "del ",
     "library": "var_list.py",
     "varRefreshCmd": "print(var_dic_list())"
    },
    "r": {
     "delete_cmd_postfix": ") ",
     "delete_cmd_prefix": "rm(",
     "library": "var_list.r",
     "varRefreshCmd": "cat(var_dic_list()) "
    }
   },
   "oldHeight": 276.806,
   "position": {
    "height": "40px",
    "left": "582.444px",
    "right": "20px",
    "top": "120px",
    "width": "250px"
   },
   "types_to_exclude": [
    "module",
    "function",
    "builtin_function_or_method",
    "instance",
    "_Feature"
   ],
   "varInspector_section_display": "none",
   "window_display": true
  }
 },
 "nbformat": 4,
 "nbformat_minor": 5
}
