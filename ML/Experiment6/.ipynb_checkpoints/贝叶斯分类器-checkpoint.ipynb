{
 "cells": [
  {
   "cell_type": "code",
   "execution_count": 1,
   "metadata": {},
   "outputs": [
    {
     "name": "stdout",
     "output_type": "stream",
     "text": [
      "[0 2 2 2 2 1 2 2 2 0 1 0 0 2 1 0 2 0 1 1 2 0 0 2 2 1 2 1 1 1 2 2 1 1 2 0 0\n",
      " 1 1 0 0 0 0 1 1]\n",
      "[0 2 2 2 2 1 2 1 1 0 1 0 0 1 1 0 1 0 1 1 2 0 0 1 2 1 1 2 1 2 2 1 1 1 2 0 0\n",
      " 1 2 0 0 0 0 1 1]\n"
     ]
    }
   ],
   "source": [
    "from sklearn.naive_bayes import GaussianNB  #高斯朴素贝叶斯\n",
    "\n",
    "from sklearn.datasets import load_iris\n",
    "\n",
    "from sklearn.model_selection import train_test_split\n",
    "\n",
    "datas = load_iris()\n",
    "# print(datas)\n",
    "\n",
    "iris_x = datas.data\n",
    "iris_y = datas.target\n",
    "\n",
    "# print(iris_x)\n",
    "# print(iris_y)\n",
    "\n",
    "iris_x0 = iris_x[ :, 0:2]\n",
    "# print(iris_x0)\n",
    "\n",
    "X_train,X_test,y_train,y_test =train_test_split(iris_x0, iris_y, test_size=0.3)\n",
    "\n",
    "\n",
    "clf = GaussianNB( )\n",
    "\n",
    "\n",
    "\n",
    "clf.fit(X_train,y_train)\n",
    "\n",
    "per = clf.predict(X_test)\n",
    "print(per)\n",
    "print(y_test)"
   ]
  },
  {
   "cell_type": "code",
   "execution_count": 2,
   "metadata": {},
   "outputs": [
    {
     "name": "stdout",
     "output_type": "stream",
     "text": [
      "高斯朴素贝叶斯，样本总数： 150 错误样本数 : 6\n",
      "多项分布朴素贝叶斯，样本总数： 150 错误样本数 : 7\n",
      "伯努利朴素贝叶斯，样本总数： 150 错误样本数 : 100\n"
     ]
    }
   ],
   "source": [
    "from sklearn import datasets\n",
    "iris = datasets.load_iris()\n",
    "\n",
    "from sklearn.naive_bayes import GaussianNB\n",
    "clf = GaussianNB()\n",
    "clf = clf.fit(iris.data, iris.target)\n",
    "y_pred=clf.predict(iris.data)\n",
    "print(\"高斯朴素贝叶斯，样本总数： %d 错误样本数 : %d\" % (iris.data.shape[0],(iris.target != y_pred).sum()))\n",
    "\n",
    "from sklearn.naive_bayes import MultinomialNB\n",
    "clf = MultinomialNB()\n",
    "clf = clf.fit(iris.data, iris.target)\n",
    "y_pred=clf.predict(iris.data)\n",
    "print(\"多项分布朴素贝叶斯，样本总数： %d 错误样本数 : %d\" % (iris.data.shape[0],(iris.target != y_pred).sum()))\n",
    "\n",
    "from sklearn.naive_bayes import BernoulliNB\n",
    "clf = BernoulliNB()\n",
    "clf = clf.fit(iris.data, iris.target)\n",
    "y_pred=clf.predict(iris.data)\n",
    "print(\"伯努利朴素贝叶斯，样本总数： %d 错误样本数 : %d\" % (iris.data.shape[0],(iris.target != y_pred).sum()))\n",
    "\n"
   ]
  }
 ],
 "metadata": {
  "kernelspec": {
   "display_name": "Python 3",
   "language": "python",
   "name": "python3"
  },
  "language_info": {
   "codemirror_mode": {
    "name": "ipython",
    "version": 3
   },
   "file_extension": ".py",
   "mimetype": "text/x-python",
   "name": "python",
   "nbconvert_exporter": "python",
   "pygments_lexer": "ipython3",
   "version": "3.8.5"
  },
  "toc": {
   "base_numbering": 1,
   "nav_menu": {},
   "number_sections": true,
   "sideBar": true,
   "skip_h1_title": false,
   "title_cell": "Table of Contents",
   "title_sidebar": "Contents",
   "toc_cell": false,
   "toc_position": {},
   "toc_section_display": true,
   "toc_window_display": false
  },
  "varInspector": {
   "cols": {
    "lenName": 16,
    "lenType": 16,
    "lenVar": 40
   },
   "kernels_config": {
    "python": {
     "delete_cmd_postfix": "",
     "delete_cmd_prefix": "del ",
     "library": "var_list.py",
     "varRefreshCmd": "print(var_dic_list())"
    },
    "r": {
     "delete_cmd_postfix": ") ",
     "delete_cmd_prefix": "rm(",
     "library": "var_list.r",
     "varRefreshCmd": "cat(var_dic_list()) "
    }
   },
   "types_to_exclude": [
    "module",
    "function",
    "builtin_function_or_method",
    "instance",
    "_Feature"
   ],
   "window_display": false
  }
 },
 "nbformat": 4,
 "nbformat_minor": 2
}
