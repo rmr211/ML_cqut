{
 "cells": [
  {
   "cell_type": "code",
   "execution_count": 1,
   "metadata": {},
   "outputs": [],
   "source": [
    "import numpy as np"
   ]
  },
  {
   "cell_type": "code",
   "execution_count": 2,
   "metadata": {},
   "outputs": [],
   "source": [
    "# 定义一个layer\n",
    "class Layer:\n",
    "    def __init__(self):\n",
    "        pass\n",
    "    def forward(self, input):\n",
    "        return input\n",
    "    def backward(self, input, grad_output):\n",
    "        pass"
   ]
  },
  {
   "cell_type": "code",
   "execution_count": 3,
   "metadata": {},
   "outputs": [],
   "source": [
    "# 定义Relu层\n",
    "class ReLU(Layer):\n",
    "    def __init__(self):\n",
    "        pass\n",
    "    def forward(self,input):\n",
    "        return np.maximum(0,input) # relu函数为max(0,x)\n",
    "    def backward(self,input,grad_output):\n",
    "        relu_grad = input>0        #relu函数导数为1 if x>0 else 0\n",
    "        return grad_output*relu_grad"
   ]
  },
  {
   "cell_type": "code",
   "execution_count": 4,
   "metadata": {},
   "outputs": [],
   "source": [
    "class Sigmoid(Layer):\n",
    "    def __init__(self):\n",
    "            pass\n",
    "    \n",
    "    def _sigmoid(self,x):\n",
    "        return 1.0/(1+np.exp(-x))\n",
    "    \n",
    "    def forward(self,input):\n",
    "        return self._sigmoid(input)\n",
    "    \n",
    "    def backward(self,input,grad_output):\n",
    "        sigmoid_grad = self._sigmoid(input)*(1-self._sigmoid(input))\n",
    "        return grad_output*sigmoid_grad"
   ]
  },
  {
   "cell_type": "code",
   "execution_count": 5,
   "metadata": {},
   "outputs": [],
   "source": [
    "class Tanh(Layer):\n",
    "    def __init__(self):\n",
    "        pass\n",
    "    def _tanh(self,x):\n",
    "        return np.tanh(x)\n",
    "    def forward(self,input):\n",
    "        return self._tanh(input)\n",
    "    def backward(self, input, grad_output):\n",
    "        grad_tanh = 1-(self._tanh(input))**2\n",
    "        return grad_output*grad_tanh"
   ]
  },
  {
   "cell_type": "code",
   "execution_count": 6,
   "metadata": {},
   "outputs": [],
   "source": [
    "class Dense(Layer):\n",
    "    def __init__(self, input_units, output_units, learning_rate=0.01):\n",
    "        self.learning_rate = learning_rate\n",
    "        self.weights = np.random.randn(input_units, output_units)*0.01\n",
    "        self.biases = np.zeros(output_units)\n",
    "    def forward(self,input):\n",
    "        return np.dot(input,self.weights)+self.biases\n",
    "    def backward(self,input,grad_output):\n",
    "        grad_input = np.dot(grad_output, self.weights.T)\n",
    "        grad_weights = np.dot(input.T,grad_output)/input.shape[0]\n",
    "        grad_biases = grad_output.mean(axis=0)\n",
    "        self.weights = self.weights - self.learning_rate*grad_weights\n",
    "        self.biases = self.biases - self.learning_rate*grad_biases\n",
    "        return grad_input"
   ]
  },
  {
   "cell_type": "code",
   "execution_count": 7,
   "metadata": {},
   "outputs": [],
   "source": [
    "network = []\n",
    "network.append(Dense(1,50))\n",
    "network.append(Tanh())\n",
    "network.append(Dense(50,1))"
   ]
  },
  {
   "cell_type": "code",
   "execution_count": 8,
   "metadata": {},
   "outputs": [],
   "source": [
    "def forward(network,X):\n",
    "    activations = []\n",
    "    input = X\n",
    "    for layer in network:\n",
    "        activations.append(layer.forward(input))\n",
    "        input = activations[-1]\n",
    "                \n",
    "    assert len(activations) == len(network)\n",
    "    return activations"
   ]
  },
  {
   "cell_type": "code",
   "execution_count": 9,
   "metadata": {},
   "outputs": [],
   "source": [
    "def predict(network,X):\n",
    "    logits = forward(network,X)[-1]\n",
    "    return logits"
   ]
  },
  {
   "cell_type": "code",
   "execution_count": 10,
   "metadata": {},
   "outputs": [],
   "source": [
    "def train(network,X,y):    \n",
    "    layer_activations = forward(network,X)\n",
    "    layer_inputs = [X]+layer_activations  \n",
    "    logits = layer_activations[-1]\n",
    "    \n",
    "    # 这里的损失函数需要自己定义\n",
    "    loss = np.square(logits - y).sum()\n",
    "    loss_grad = 2.0*(logits-y)\n",
    "    \n",
    "    for layer_i in range(len(network))[::-1]:\n",
    "        layer = network[layer_i]\n",
    "        loss_grad = layer.backward(layer_inputs[layer_i],loss_grad) #grad w.r.t. input, also weight updates\n",
    "        \n",
    "    return np.mean(loss)"
   ]
  },
  {
   "cell_type": "code",
   "execution_count": 11,
   "metadata": {},
   "outputs": [],
   "source": [
    "x_train = np.linspace(-np.pi,0.7 * np.pi,140).reshape(140,-1)\n",
    "y_train = np.sin(x_train)\n",
    "x_test = np.linspace(np.pi*0.7,np.pi,60).reshape(60,-1)\n",
    "y_test = np.sin(x_test)"
   ]
  },
  {
   "cell_type": "code",
   "execution_count": 12,
   "metadata": {},
   "outputs": [
    {
     "name": "stdout",
     "output_type": "stream",
     "text": [
      "0.13300017792605673\n",
      "0.060643261307100134\n",
      "0.14289152959980828\n",
      "0.02596492110720839\n",
      "0.13910498756551443\n",
      "0.028394363443679346\n",
      "0.07321920044557413\n",
      "0.09922604785750398\n",
      "0.025939559408027286\n",
      "0.11062305407549483\n",
      "0.016619036653404154\n",
      "0.009675160658931951\n",
      "0.020503951095894146\n",
      "0.0146014980133216\n",
      "0.01293759401080886\n",
      "0.01910760231614981\n",
      "0.02010049162619612\n",
      "0.08633884139233361\n",
      "0.01339240633122121\n",
      "0.01623087870244985\n",
      "0.016217043976487374\n",
      "0.02064293118101773\n",
      "0.019814075304301775\n",
      "0.014204722955660798\n",
      "0.010764661537895707\n",
      "0.006062868917051043\n",
      "0.01250198044052161\n",
      "0.018967087732555378\n",
      "0.08612818216529654\n",
      "0.01340410023779842\n",
      "0.021393983049641404\n",
      "0.013007108081950781\n",
      "0.10993709598786418\n",
      "0.106624819450012\n",
      "0.012573410770463983\n",
      "0.021909814398699167\n",
      "0.012935389160872649\n",
      "0.012222021671755609\n",
      "0.01610958747297214\n",
      "0.020110961131035096\n",
      "0.012807117672627879\n",
      "0.010448241932397262\n",
      "0.019764131837171562\n",
      "0.009014299290214104\n",
      "0.012957589899780068\n",
      "0.01790746309293229\n",
      "0.02015180937832748\n",
      "0.012009783372657587\n",
      "0.011525609624915945\n",
      "0.01600394081404239\n",
      "0.020128936941688665\n",
      "0.019353383020665076\n",
      "0.10145779599274206\n",
      "0.01902580796936249\n",
      "0.011325018883321719\n",
      "0.005707905815897842\n",
      "0.011043533241670442\n",
      "0.007996854995868758\n",
      "0.01914372627437965\n",
      "0.011760941659857426\n",
      "0.01978852271426867\n",
      "0.006759489777573879\n",
      "0.011174154081525216\n",
      "0.01373482903926767\n",
      "0.005224889187722045\n",
      "0.009336159553782832\n",
      "0.006614417517734673\n",
      "0.012937169424600298\n",
      "0.00369911873964163\n",
      "0.013332667549139577\n",
      "0.008313363494183195\n",
      "0.018673392791037757\n",
      "0.006044885901410033\n",
      "0.01889092827874118\n",
      "0.00941784697065143\n",
      "0.003993386478507411\n",
      "0.009890316124149574\n",
      "0.013855180820636385\n",
      "0.017637058318066067\n",
      "0.003996098736587915\n",
      "0.014924678313966563\n",
      "0.018797223509526128\n",
      "0.09989208164288474\n",
      "0.015461328249684048\n",
      "0.008971662122269403\n",
      "0.012439521362621156\n",
      "0.1149749823483859\n",
      "0.007896044691847865\n",
      "0.011020754110208196\n",
      "0.014003347168900395\n",
      "0.016769216825672863\n",
      "0.01782231907868497\n",
      "0.012050181291608205\n",
      "0.016366659606925238\n",
      "0.002295387061319807\n",
      "0.014349482512995084\n",
      "0.01427008995189565\n"
     ]
    }
   ],
   "source": [
    "losses = []\n",
    "for h in range(3,100):\n",
    "    network = []\n",
    "    network.append(Dense(1,h))\n",
    "    network.append(Tanh())\n",
    "    network.append(Dense(h,1))\n",
    "    ll = []\n",
    "    for e in range(100000):\n",
    "        loss = train(network,x_train,y_train)\n",
    "        ll.append(loss)\n",
    "    print(np.mean(ll[-1000:]))\n",
    "    losses.append(np.mean(ll[-1000:]))"
   ]
  },
  {
   "cell_type": "code",
   "execution_count": null,
   "metadata": {},
   "outputs": [],
   "source": []
  }
 ],
 "metadata": {
  "kernelspec": {
   "display_name": "Python 3 (ipykernel)",
   "language": "python",
   "name": "python3"
  },
  "language_info": {
   "codemirror_mode": {
    "name": "ipython",
    "version": 3
   },
   "file_extension": ".py",
   "mimetype": "text/x-python",
   "name": "python",
   "nbconvert_exporter": "python",
   "pygments_lexer": "ipython3",
   "version": "3.8.13"
  },
  "toc": {
   "base_numbering": 1,
   "nav_menu": {},
   "number_sections": true,
   "sideBar": true,
   "skip_h1_title": false,
   "title_cell": "Table of Contents",
   "title_sidebar": "Contents",
   "toc_cell": false,
   "toc_position": {},
   "toc_section_display": true,
   "toc_window_display": false
  },
  "varInspector": {
   "cols": {
    "lenName": 16,
    "lenType": 16,
    "lenVar": 40
   },
   "kernels_config": {
    "python": {
     "delete_cmd_postfix": "",
     "delete_cmd_prefix": "del ",
     "library": "var_list.py",
     "varRefreshCmd": "print(var_dic_list())"
    },
    "r": {
     "delete_cmd_postfix": ") ",
     "delete_cmd_prefix": "rm(",
     "library": "var_list.r",
     "varRefreshCmd": "cat(var_dic_list()) "
    }
   },
   "types_to_exclude": [
    "module",
    "function",
    "builtin_function_or_method",
    "instance",
    "_Feature"
   ],
   "window_display": false
  }
 },
 "nbformat": 4,
 "nbformat_minor": 4
}
